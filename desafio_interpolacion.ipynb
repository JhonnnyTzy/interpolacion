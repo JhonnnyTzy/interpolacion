{
  "nbformat": 4,
  "nbformat_minor": 0,
  "metadata": {
    "colab": {
      "provenance": [],
      "authorship_tag": "ABX9TyPfS0X5fvQoheu6dXrgFRy6",
      "include_colab_link": true
    },
    "kernelspec": {
      "name": "python3",
      "display_name": "Python 3"
    },
    "language_info": {
      "name": "python"
    }
  },
  "cells": [
    {
      "cell_type": "markdown",
      "metadata": {
        "id": "view-in-github",
        "colab_type": "text"
      },
      "source": [
        "<a href=\"https://colab.research.google.com/github/JhonnnyTzy/interpolacion/blob/main/desafio_interpolacion.ipynb\" target=\"_parent\"><img src=\"https://colab.research.google.com/assets/colab-badge.svg\" alt=\"Open In Colab\"/></a>"
      ]
    },
    {
      "cell_type": "markdown",
      "source": [
        "**PARA 5000 PIES**"
      ],
      "metadata": {
        "id": "dPYjHvNUesfX"
      }
    },
    {
      "cell_type": "code",
      "execution_count": 1,
      "metadata": {
        "id": "TOxZZw9j4mDx",
        "colab": {
          "base_uri": "https://localhost:8080/"
        },
        "outputId": "2ff5a15b-67dd-4288-eadc-2c21d496b1f8"
      },
      "outputs": [
        {
          "output_type": "stream",
          "name": "stdout",
          "text": [
            "Temperatura a 5000 pies por Newton: 202.18 °F\n"
          ]
        }
      ],
      "source": [
        "import numpy as np\n",
        "\n",
        "# Definir los datos\n",
        "h = np.array([-1000, 0, 3000, 8000, 15000, 22000, 28000])  # Alturas en pies\n",
        "T = np.array([213.9, 212, 206.2, 196.2, 184.4, 172.6, 163.1])  # Temperaturas en °F\n",
        "\n",
        "def divided_differences(x, y):\n",
        "    \"\"\"Función para calcular la tabla de diferencias divididas\"\"\"\n",
        "    n = len(y)\n",
        "    coef = np.zeros([n, n])\n",
        "    coef[:, 0] = y  # Primera columna es igual a y\n",
        "\n",
        "    for j in range(1, n):\n",
        "        for i in range(n - j):\n",
        "            coef[i, j] = (coef[i + 1, j - 1] - coef[i, j - 1]) / (x[i + j] - x[i])\n",
        "\n",
        "    return coef[0]  # Devuelve los coeficientes\n",
        "\n",
        "def newton_interpolation(x_interpolado, x, coef):\n",
        "    \"\"\"Evalúa el polinomio de Newton en un punto dado x_interpolado\"\"\"\n",
        "    n = len(x)\n",
        "    P = coef[0]\n",
        "    for i in range(1, n):\n",
        "        term = coef[i]\n",
        "        for j in range(i):\n",
        "            term *= (x_interpolado - x[j])\n",
        "        P += term\n",
        "    return P\n",
        "\n",
        "# Calcular los coeficientes de las diferencias divididas\n",
        "coef = divided_differences(h, T)\n",
        "\n",
        "# Definir el punto a interpolar\n",
        "h_interpolado = 5000  # 5000 pies\n",
        "\n",
        "# Calcular la temperatura usando interpolación de Newton\n",
        "T_interpolado = newton_interpolation(h_interpolado, h, coef)\n",
        "\n",
        "# Mostrar el resultado\n",
        "print(f\"Temperatura a 5000 pies por Newton: {T_interpolado:.2f} °F\")\n"
      ]
    },
    {
      "cell_type": "markdown",
      "source": [
        "**PARA LA CIUDAD DE LA PAZ**"
      ],
      "metadata": {
        "id": "kFmYUFBUexGT"
      }
    },
    {
      "cell_type": "code",
      "source": [
        "import numpy as np\n",
        "\n",
        "# Definir los datos\n",
        "h = np.array([-1000, 0, 3000, 8000, 15000, 22000, 28000])  # Alturas en pies\n",
        "T = np.array([213.9, 212, 206.2, 196.2, 184.4, 172.6, 163.1])  # Temperaturas en °F\n",
        "\n",
        "def divided_differences(x, y):\n",
        "    \"\"\"Función para calcular la tabla de diferencias divididas\"\"\"\n",
        "    n = len(y)\n",
        "    coef = np.zeros([n, n])\n",
        "    coef[:, 0] = y  # Primera columna es igual a y\n",
        "\n",
        "    for j in range(1, n):\n",
        "        for i in range(n - j):\n",
        "            coef[i, j] = (coef[i + 1, j - 1] - coef[i, j - 1]) / (x[i + j] - x[i])\n",
        "\n",
        "    return coef[0]  # Devuelve los coeficientes\n",
        "\n",
        "def newton_interpolation(x_interpolado, x, coef):\n",
        "    \"\"\"Evalúa el polinomio de Newton en un punto dado x_interpolado\"\"\"\n",
        "    n = len(x)\n",
        "    P = coef[0]\n",
        "    for i in range(1, n):\n",
        "        term = coef[i]\n",
        "        for j in range(i):\n",
        "            term *= (x_interpolado - x[j])\n",
        "        P += term\n",
        "    return P\n",
        "\n",
        "# Calcular los coeficientes de las diferencias divididas\n",
        "coef = divided_differences(h, T)\n",
        "\n",
        "# Definir el punto a interpolar\n",
        "h_interpolado = 11975  # La Paz (11975 pies)\n",
        "\n",
        "# Calcular la temperatura usando interpolación de Newton\n",
        "T_interpolado = newton_interpolation(h_interpolado, h, coef)\n",
        "\n",
        "# Mostrar el resultado\n",
        "print(f\"Temperatura a 11975 pies (La Paz) por Newton: {T_interpolado:.2f} °F\")\n"
      ],
      "metadata": {
        "colab": {
          "base_uri": "https://localhost:8080/"
        },
        "id": "BRdxb7Kre5L4",
        "outputId": "92f36597-6d35-4879-cc04-d04704a702a2"
      },
      "execution_count": 2,
      "outputs": [
        {
          "output_type": "stream",
          "name": "stdout",
          "text": [
            "Temperatura a 11975 pies (La Paz) por Newton: 189.10 °F\n"
          ]
        }
      ]
    },
    {
      "cell_type": "markdown",
      "source": [
        "**PARA LA CIUDAD DEL ALTO**"
      ],
      "metadata": {
        "id": "DPPo1wj3e5zQ"
      }
    },
    {
      "cell_type": "code",
      "source": [
        "import numpy as np\n",
        "\n",
        "# Definir los datos\n",
        "h = np.array([-1000, 0, 3000, 8000, 15000, 22000, 28000])  # Alturas en pies\n",
        "T = np.array([213.9, 212, 206.2, 196.2, 184.4, 172.6, 163.1])  # Temperaturas en °F\n",
        "\n",
        "def divided_differences(x, y):\n",
        "    \"\"\"Función para calcular la tabla de diferencias divididas\"\"\"\n",
        "    n = len(y)\n",
        "    coef = np.zeros([n, n])\n",
        "    coef[:, 0] = y  # Primera columna es igual a y\n",
        "\n",
        "    for j in range(1, n):\n",
        "        for i in range(n - j):\n",
        "            coef[i, j] = (coef[i + 1, j - 1] - coef[i, j - 1]) / (x[i + j] - x[i])\n",
        "\n",
        "    return coef[0]  # Devuelve los coeficientes\n",
        "\n",
        "def newton_interpolation(x_interpolado, x, coef):\n",
        "    \"\"\"Evalúa el polinomio de Newton en un punto dado x_interpolado\"\"\"\n",
        "    n = len(x)\n",
        "    P = coef[0]\n",
        "    for i in range(1, n):\n",
        "        term = coef[i]\n",
        "        for j in range(i):\n",
        "            term *= (x_interpolado - x[j])\n",
        "        P += term\n",
        "    return P\n",
        "\n",
        "# Calcular los coeficientes de las diferencias divididas\n",
        "coef = divided_differences(h, T)\n",
        "\n",
        "# Definir el punto a interpolar\n",
        "h_interpolado = 13615.49  # El Alto (13615.49 pies)\n",
        "\n",
        "# Calcular la temperatura usando interpolación de Newton\n",
        "T_interpolado = newton_interpolation(h_interpolado, h, coef)\n",
        "\n",
        "# Mostrar el resultado\n",
        "print(f\"Temperatura a 13615.49 pies (El Alto) por Newton: {T_interpolado:.2f} °F\")\n"
      ],
      "metadata": {
        "colab": {
          "base_uri": "https://localhost:8080/"
        },
        "id": "9jVyD5Jhe9ot",
        "outputId": "c801971b-468e-4b33-c590-cb2afd1f7f75"
      },
      "execution_count": 3,
      "outputs": [
        {
          "output_type": "stream",
          "name": "stdout",
          "text": [
            "Temperatura a 13615.49 pies (El Alto) por Newton: 186.51 °F\n"
          ]
        }
      ]
    }
  ]
}